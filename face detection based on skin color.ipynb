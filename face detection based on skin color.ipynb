{
 "cells": [
  {
   "cell_type": "code",
   "execution_count": 1,
   "metadata": {},
   "outputs": [],
   "source": [
    "import cv2\n",
    "import numpy as np\n",
    "import glob\n",
    "import os"
   ]
  },
  {
   "cell_type": "code",
   "execution_count": 82,
   "metadata": {},
   "outputs": [],
   "source": [
    "def skin_detector(src, dst):\n",
    "    \n",
    "    for path in glob.glob(os.path.join(src, '*.jpg')):\n",
    "        \n",
    "        img = cv2.imread(path)\n",
    "\n",
    "        #converting from gbr to YCbCr color space\n",
    "        img_YCrCb = cv2.cvtColor(img, cv2.COLOR_BGR2YCrCb)\n",
    "        #skin color range for YCbCr color space \n",
    "        YCrCb_mask = cv2.inRange(img_YCrCb, (0, 133, 80), (255, 173, 120)) \n",
    "        YCrCb_mask = cv2.morphologyEx(YCrCb_mask, cv2.MORPH_OPEN, np.ones((3,3), np.uint8))\n",
    "        YCrCb_mask = cv2.dilate(YCrCb_mask, np.ones((3,3), np.uint8), iterations = 5)\n",
    "\n",
    "        YCrCb_result = cv2.bitwise_and(img, img, mask = YCrCb_mask)\n",
    "        \n",
    "        cv2.imwrite(os.path.join(dst, os.path.split(path)[1]), YCrCb_result)\n"
   ]
  },
  {
   "cell_type": "code",
   "execution_count": 76,
   "metadata": {},
   "outputs": [],
   "source": [
    "aadhar_path = r'C:\\Users\\Vineet Kumar Verma\\Desktop\\Major Part - 1\\dataset_of_faces\\RupeeGo Dataset Sample\\Aadhar'\n",
    "YCbCr_aadhar_path = r'C:\\Users\\Vineet Kumar Verma\\Desktop\\Major Part - 1\\dataset_of_faces\\RupeeGo Dataset Sample\\Aadhar_YCbCr'\n",
    "skin_detector(aadhar_path, YCbCr_aadhar_path)"
   ]
  },
  {
   "cell_type": "code",
   "execution_count": 77,
   "metadata": {},
   "outputs": [],
   "source": [
    "pan_path = r'C:\\Users\\Vineet Kumar Verma\\Desktop\\Major Part - 1\\dataset_of_faces\\RupeeGo Dataset Sample\\PAN'\n",
    "YCbCr_pan_path = r'C:\\Users\\Vineet Kumar Verma\\Desktop\\Major Part - 1\\dataset_of_faces\\RupeeGo Dataset Sample\\PAN_YCbCr'\n",
    "skin_detector(pan_path, YCbCr_pan_path)"
   ]
  },
  {
   "cell_type": "code",
   "execution_count": 83,
   "metadata": {},
   "outputs": [],
   "source": [
    "photo_path = r'C:\\Users\\Vineet Kumar Verma\\Desktop\\Major Part - 1\\dataset_of_faces\\RupeeGo Dataset Sample\\Photo'\n",
    "YCbCr_photo_path = r'C:\\Users\\Vineet Kumar Verma\\Desktop\\Major Part - 1\\dataset_of_faces\\RupeeGo Dataset Sample\\Photo_YCbCr'\n",
    "skin_detector(photo_path, YCbCr_photo_path)"
   ]
  },
  {
   "cell_type": "code",
   "execution_count": 85,
   "metadata": {},
   "outputs": [],
   "source": [
    "aadhar_path = r'C:\\Users\\Vineet Kumar Verma\\Desktop\\Major Part - 1\\dataset_of_faces\\RupeeGo Project\\Aadhar'\n",
    "YCbCr_aadhar_path = r'C:\\Users\\Vineet Kumar Verma\\Desktop\\Major Part - 1\\dataset_of_faces\\RupeeGo Project\\Aadhar_YCbCr'\n",
    "skin_detector(aadhar_path, YCbCr_aadhar_path)"
   ]
  },
  {
   "cell_type": "code",
   "execution_count": null,
   "metadata": {},
   "outputs": [],
   "source": []
  }
 ],
 "metadata": {
  "kernelspec": {
   "display_name": "Python 3",
   "language": "python",
   "name": "python3"
  },
  "language_info": {
   "codemirror_mode": {
    "name": "ipython",
    "version": 3
   },
   "file_extension": ".py",
   "mimetype": "text/x-python",
   "name": "python",
   "nbconvert_exporter": "python",
   "pygments_lexer": "ipython3",
   "version": "3.7.4"
  }
 },
 "nbformat": 4,
 "nbformat_minor": 2
}
