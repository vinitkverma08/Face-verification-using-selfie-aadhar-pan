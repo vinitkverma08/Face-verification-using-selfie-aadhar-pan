{
 "cells": [
  {
   "cell_type": "code",
   "execution_count": 3,
   "metadata": {},
   "outputs": [],
   "source": [
    "import pandas as pd\n",
    "import numpy as np\n",
    "import os\n",
    "import glob\n",
    "from PIL import Image\n",
    "from facenet_pytorch import MTCNN, InceptionResnetV1\n",
    "import torch\n",
    "import torch.nn.functional as F\n",
    "from sklearn.metrics import auc\n",
    "import math\n",
    "import matplotlib.pyplot as plt\n",
    "%matplotlib inline\n",
    "from sklearn.linear_model import LogisticRegression\n",
    "from sklearn.metrics import roc_curve\n",
    "from sklearn.metrics import roc_auc_score\n",
    "import seaborn as sns\n",
    "sns.set()"
   ]
  },
  {
   "cell_type": "code",
   "execution_count": 4,
   "metadata": {},
   "outputs": [
    {
     "name": "stdout",
     "output_type": "stream",
     "text": [
      "cuda:0\n"
     ]
    }
   ],
   "source": [
    "device = torch.device(\"cuda:0\" if torch.cuda.is_available() else \"cpu\")\n",
    "print(device)"
   ]
  },
  {
   "cell_type": "code",
   "execution_count": 5,
   "metadata": {},
   "outputs": [],
   "source": [
    "resnet = InceptionResnetV1(pretrained='vggface2', device=device).eval()"
   ]
  },
  {
   "cell_type": "code",
   "execution_count": 6,
   "metadata": {},
   "outputs": [],
   "source": [
    "array_of_embeddings = [[None for x in range(4)] for y in range(50)]"
   ]
  },
  {
   "cell_type": "code",
   "execution_count": 7,
   "metadata": {},
   "outputs": [],
   "source": [
    "path = r'C:\\Users\\Vineet Kumar Verma\\Desktop\\Major Part - 1\\Face Matching\\training\\*'\n",
    "person = []\n",
    "row_index = 0\n",
    "for path in glob.glob(path):\n",
    "    \n",
    "    person.append(os.path.basename(path))\n",
    "    person_img_path = glob.glob(os.path.join(path, '*.jpg'))\n",
    "    \n",
    "    col_index = 0\n",
    "    array_of_embeddings[row_index][col_index] = os.path.basename(path)\n",
    "    \n",
    "    for img_path in person_img_path:\n",
    "        \n",
    "        img = Image.open(img_path)\n",
    "        img = img.resize((160, 160), resample = Image.LANCZOS)\n",
    "        img = np.array(img)\n",
    "        mean = img.mean()\n",
    "        stddev = img.std()\n",
    "        adjusted_stddev = max(stddev, 1.0/math.sqrt(img.size))\n",
    "        img = (img - mean)/adjusted_stddev\n",
    "        img = torch.from_numpy(img).float().to(device)\n",
    "        img = img.permute(2, 0, 1)\n",
    "        img_embedding = resnet(img.unsqueeze(0))\n",
    "        \n",
    "        col_index = col_index + 1\n",
    "        array_of_embeddings[row_index][col_index] = img_embedding.cpu().detach().numpy()\n",
    "        \n",
    "    row_index = row_index + 1"
   ]
  },
  {
   "cell_type": "code",
   "execution_count": 8,
   "metadata": {},
   "outputs": [
    {
     "data": {
      "text/html": [
       "<div>\n",
       "<style scoped>\n",
       "    .dataframe tbody tr th:only-of-type {\n",
       "        vertical-align: middle;\n",
       "    }\n",
       "\n",
       "    .dataframe tbody tr th {\n",
       "        vertical-align: top;\n",
       "    }\n",
       "\n",
       "    .dataframe thead th {\n",
       "        text-align: right;\n",
       "    }\n",
       "</style>\n",
       "<table border=\"1\" class=\"dataframe\">\n",
       "  <thead>\n",
       "    <tr style=\"text-align: right;\">\n",
       "      <th></th>\n",
       "      <th>Aadhar</th>\n",
       "      <th>PAN</th>\n",
       "      <th>Photo</th>\n",
       "    </tr>\n",
       "  </thead>\n",
       "  <tbody>\n",
       "    <tr>\n",
       "      <th>100</th>\n",
       "      <td>[[0.03119058, -0.05560177, -0.030275773, 0.038...</td>\n",
       "      <td>[[-0.02418485, -0.07964193, 0.014518557, 0.040...</td>\n",
       "      <td>[[-0.039655436, -0.043306023, -0.03753889, 0.0...</td>\n",
       "    </tr>\n",
       "    <tr>\n",
       "      <th>144</th>\n",
       "      <td>[[-0.008161513, -0.03272914, 0.008121692, 0.02...</td>\n",
       "      <td>[[0.002646978, 0.02329809, 0.011009869, 0.0430...</td>\n",
       "      <td>[[-0.09759647, 0.017898235, -0.04802947, 0.003...</td>\n",
       "    </tr>\n",
       "    <tr>\n",
       "      <th>145</th>\n",
       "      <td>[[0.05043205, -0.026571298, -0.033735234, 0.02...</td>\n",
       "      <td>[[0.026021136, -0.035495855, -0.05510301, 0.05...</td>\n",
       "      <td>[[0.044944916, -0.00026974885, -0.06317894, 0....</td>\n",
       "    </tr>\n",
       "    <tr>\n",
       "      <th>15</th>\n",
       "      <td>[[-0.0068920534, -0.034521084, -0.07286961, 0....</td>\n",
       "      <td>[[0.061966754, -0.0049707447, -0.09104561, -0....</td>\n",
       "      <td>[[0.06369612, 0.005499538, -0.09948078, -0.004...</td>\n",
       "    </tr>\n",
       "    <tr>\n",
       "      <th>150</th>\n",
       "      <td>[[-0.035022575, 0.019373562, -0.02466429, -0.0...</td>\n",
       "      <td>[[-0.03116064, 0.04016489, -0.043046765, 0.076...</td>\n",
       "      <td>[[-0.014748882, -0.010233911, -0.026496585, -0...</td>\n",
       "    </tr>\n",
       "  </tbody>\n",
       "</table>\n",
       "</div>"
      ],
      "text/plain": [
       "                                                Aadhar  \\\n",
       "100  [[0.03119058, -0.05560177, -0.030275773, 0.038...   \n",
       "144  [[-0.008161513, -0.03272914, 0.008121692, 0.02...   \n",
       "145  [[0.05043205, -0.026571298, -0.033735234, 0.02...   \n",
       "15   [[-0.0068920534, -0.034521084, -0.07286961, 0....   \n",
       "150  [[-0.035022575, 0.019373562, -0.02466429, -0.0...   \n",
       "\n",
       "                                                   PAN  \\\n",
       "100  [[-0.02418485, -0.07964193, 0.014518557, 0.040...   \n",
       "144  [[0.002646978, 0.02329809, 0.011009869, 0.0430...   \n",
       "145  [[0.026021136, -0.035495855, -0.05510301, 0.05...   \n",
       "15   [[0.061966754, -0.0049707447, -0.09104561, -0....   \n",
       "150  [[-0.03116064, 0.04016489, -0.043046765, 0.076...   \n",
       "\n",
       "                                                 Photo  \n",
       "100  [[-0.039655436, -0.043306023, -0.03753889, 0.0...  \n",
       "144  [[-0.09759647, 0.017898235, -0.04802947, 0.003...  \n",
       "145  [[0.044944916, -0.00026974885, -0.06317894, 0....  \n",
       "15   [[0.06369612, 0.005499538, -0.09948078, -0.004...  \n",
       "150  [[-0.014748882, -0.010233911, -0.026496585, -0...  "
      ]
     },
     "execution_count": 8,
     "metadata": {},
     "output_type": "execute_result"
    }
   ],
   "source": [
    "array_of_embeddings = np.array(array_of_embeddings)\n",
    "embedding_df = pd.DataFrame(data = array_of_embeddings[:, 1:], index = array_of_embeddings[:, 0], columns = ['Aadhar', 'PAN', 'Photo'])\n",
    "embedding_df.head()"
   ]
  },
  {
   "cell_type": "code",
   "execution_count": 9,
   "metadata": {},
   "outputs": [],
   "source": [
    "def calculate_cosine_similarity_between_pair_of_arrays_of_embeddings(df_index, arr1, arr2):\n",
    "    \n",
    "    len_arr = len(arr1)\n",
    "    arr = [[None for x in range(len_arr)] for y in range(len_arr)]\n",
    "    arr = np.array(arr)\n",
    "    \n",
    "    similarity_df = pd.DataFrame(data = arr[:,:], index = df_index, columns = df_index)\n",
    "    \n",
    "    row = 0\n",
    "    for embed1 in arr1:\n",
    "        \n",
    "        embed1 = torch.from_numpy(embed1).float().to(device)\n",
    "        col = 0\n",
    "        for embed2 in arr2:\n",
    "            \n",
    "            embed2 = torch.from_numpy(embed2).float().to(device)\n",
    "            similarity_df.iloc[row, col] = F.cosine_similarity(embed1, embed2).cpu().detach().numpy()\n",
    "            col = col + 1\n",
    "        \n",
    "        row = row + 1\n",
    "    \n",
    "    return similarity_df"
   ]
  },
  {
   "cell_type": "code",
   "execution_count": 10,
   "metadata": {},
   "outputs": [],
   "source": [
    "def extract_all_diag_elements_and_max_in_each_col_except_diag_element(df, column_names):\n",
    "    \n",
    "    max_of_each_column = []\n",
    "    for j in df.columns:\n",
    "        arr = []\n",
    "        for i in df.index:\n",
    "            if i != j:\n",
    "                arr.append(float(df.loc[i, j]))\n",
    "            else:\n",
    "                continue\n",
    "        \n",
    "        max_of_each_column.append(max(arr))\n",
    "    \n",
    "    \n",
    "    comparison_df = pd.DataFrame(index = df.index, \n",
    "                                 columns = ['similarity between ' + column_names[0] + ' and ' + column_names[1] + ' of same person',\n",
    "                                            'max (similarity between ' + column_names[0] + ' and ' + column_names[1] + ' of different person)'],\n",
    "                                 dtype = float)\n",
    "    comparison_df['similarity between ' + column_names[0] + ' and ' + column_names[1] + ' of same person'] = np.diag(df).astype(float)\n",
    "    comparison_df['max (similarity between ' + column_names[0] + ' and ' + column_names[1] + ' of different person)'] = max_of_each_column\n",
    "    return comparison_df"
   ]
  },
  {
   "cell_type": "markdown",
   "metadata": {},
   "source": [
    "# Photo (ground truth) and Aadhar"
   ]
  },
  {
   "cell_type": "code",
   "execution_count": 11,
   "metadata": {
    "scrolled": false
   },
   "outputs": [
    {
     "data": {
      "text/html": [
       "<div>\n",
       "<style scoped>\n",
       "    .dataframe tbody tr th:only-of-type {\n",
       "        vertical-align: middle;\n",
       "    }\n",
       "\n",
       "    .dataframe tbody tr th {\n",
       "        vertical-align: top;\n",
       "    }\n",
       "\n",
       "    .dataframe thead th {\n",
       "        text-align: right;\n",
       "    }\n",
       "</style>\n",
       "<table border=\"1\" class=\"dataframe\">\n",
       "  <thead>\n",
       "    <tr style=\"text-align: right;\">\n",
       "      <th></th>\n",
       "      <th>100</th>\n",
       "      <th>144</th>\n",
       "      <th>145</th>\n",
       "      <th>15</th>\n",
       "      <th>150</th>\n",
       "      <th>165</th>\n",
       "      <th>173</th>\n",
       "      <th>185</th>\n",
       "      <th>190</th>\n",
       "      <th>211</th>\n",
       "      <th>...</th>\n",
       "      <th>750</th>\n",
       "      <th>787</th>\n",
       "      <th>791</th>\n",
       "      <th>84</th>\n",
       "      <th>86</th>\n",
       "      <th>87</th>\n",
       "      <th>91</th>\n",
       "      <th>95</th>\n",
       "      <th>97</th>\n",
       "      <th>99</th>\n",
       "    </tr>\n",
       "  </thead>\n",
       "  <tbody>\n",
       "    <tr>\n",
       "      <th>100</th>\n",
       "      <td>[0.58151835]</td>\n",
       "      <td>[0.1904195]</td>\n",
       "      <td>[0.3073697]</td>\n",
       "      <td>[0.05112817]</td>\n",
       "      <td>[0.23667696]</td>\n",
       "      <td>[0.34121317]</td>\n",
       "      <td>[0.29294488]</td>\n",
       "      <td>[0.39255098]</td>\n",
       "      <td>[0.24429248]</td>\n",
       "      <td>[0.39360762]</td>\n",
       "      <td>...</td>\n",
       "      <td>[0.12573905]</td>\n",
       "      <td>[0.35411552]</td>\n",
       "      <td>[0.354013]</td>\n",
       "      <td>[0.39428055]</td>\n",
       "      <td>[-0.060386486]</td>\n",
       "      <td>[-0.08442741]</td>\n",
       "      <td>[0.016803186]</td>\n",
       "      <td>[0.2932895]</td>\n",
       "      <td>[0.5544351]</td>\n",
       "      <td>[0.15746851]</td>\n",
       "    </tr>\n",
       "    <tr>\n",
       "      <th>144</th>\n",
       "      <td>[0.27747402]</td>\n",
       "      <td>[0.40285146]</td>\n",
       "      <td>[0.06413279]</td>\n",
       "      <td>[0.052036013]</td>\n",
       "      <td>[0.10360913]</td>\n",
       "      <td>[0.23064166]</td>\n",
       "      <td>[0.48668194]</td>\n",
       "      <td>[0.15115646]</td>\n",
       "      <td>[-0.06435494]</td>\n",
       "      <td>[0.054812375]</td>\n",
       "      <td>...</td>\n",
       "      <td>[0.094966486]</td>\n",
       "      <td>[0.35662055]</td>\n",
       "      <td>[0.15482248]</td>\n",
       "      <td>[0.2738946]</td>\n",
       "      <td>[0.074721456]</td>\n",
       "      <td>[0.29477137]</td>\n",
       "      <td>[-0.037651446]</td>\n",
       "      <td>[0.23197602]</td>\n",
       "      <td>[0.2782849]</td>\n",
       "      <td>[0.27204454]</td>\n",
       "    </tr>\n",
       "    <tr>\n",
       "      <th>145</th>\n",
       "      <td>[0.48184717]</td>\n",
       "      <td>[0.33442745]</td>\n",
       "      <td>[0.20423931]</td>\n",
       "      <td>[0.14041439]</td>\n",
       "      <td>[-0.121329434]</td>\n",
       "      <td>[0.2243618]</td>\n",
       "      <td>[0.34011534]</td>\n",
       "      <td>[0.33208817]</td>\n",
       "      <td>[0.24229339]</td>\n",
       "      <td>[-0.028336812]</td>\n",
       "      <td>...</td>\n",
       "      <td>[-0.09657165]</td>\n",
       "      <td>[0.21799672]</td>\n",
       "      <td>[0.41829064]</td>\n",
       "      <td>[0.20974039]</td>\n",
       "      <td>[0.13022557]</td>\n",
       "      <td>[0.34797898]</td>\n",
       "      <td>[0.17609188]</td>\n",
       "      <td>[0.20393188]</td>\n",
       "      <td>[0.43079937]</td>\n",
       "      <td>[0.57789093]</td>\n",
       "    </tr>\n",
       "    <tr>\n",
       "      <th>15</th>\n",
       "      <td>[0.38418084]</td>\n",
       "      <td>[0.080518275]</td>\n",
       "      <td>[0.3049061]</td>\n",
       "      <td>[0.28024307]</td>\n",
       "      <td>[0.10220041]</td>\n",
       "      <td>[0.13877583]</td>\n",
       "      <td>[0.2546041]</td>\n",
       "      <td>[0.06408824]</td>\n",
       "      <td>[0.21449697]</td>\n",
       "      <td>[0.062096484]</td>\n",
       "      <td>...</td>\n",
       "      <td>[0.014776135]</td>\n",
       "      <td>[0.045110244]</td>\n",
       "      <td>[0.092281334]</td>\n",
       "      <td>[0.07156711]</td>\n",
       "      <td>[0.10364716]</td>\n",
       "      <td>[0.3850168]</td>\n",
       "      <td>[-0.043028526]</td>\n",
       "      <td>[0.5992318]</td>\n",
       "      <td>[0.19234057]</td>\n",
       "      <td>[0.34869334]</td>\n",
       "    </tr>\n",
       "    <tr>\n",
       "      <th>150</th>\n",
       "      <td>[0.012700662]</td>\n",
       "      <td>[0.3071134]</td>\n",
       "      <td>[0.2599663]</td>\n",
       "      <td>[0.18537167]</td>\n",
       "      <td>[0.7318371]</td>\n",
       "      <td>[0.44882792]</td>\n",
       "      <td>[0.20694938]</td>\n",
       "      <td>[0.10821664]</td>\n",
       "      <td>[0.24909456]</td>\n",
       "      <td>[0.47057644]</td>\n",
       "      <td>...</td>\n",
       "      <td>[0.21543115]</td>\n",
       "      <td>[0.28598124]</td>\n",
       "      <td>[0.22489356]</td>\n",
       "      <td>[0.26328236]</td>\n",
       "      <td>[0.429473]</td>\n",
       "      <td>[0.24247454]</td>\n",
       "      <td>[0.17166135]</td>\n",
       "      <td>[0.14341918]</td>\n",
       "      <td>[0.0018937625]</td>\n",
       "      <td>[0.13962786]</td>\n",
       "    </tr>\n",
       "  </tbody>\n",
       "</table>\n",
       "<p>5 rows × 50 columns</p>\n",
       "</div>"
      ],
      "text/plain": [
       "               100            144           145             15  \\\n",
       "100   [0.58151835]    [0.1904195]   [0.3073697]   [0.05112817]   \n",
       "144   [0.27747402]   [0.40285146]  [0.06413279]  [0.052036013]   \n",
       "145   [0.48184717]   [0.33442745]  [0.20423931]   [0.14041439]   \n",
       "15    [0.38418084]  [0.080518275]   [0.3049061]   [0.28024307]   \n",
       "150  [0.012700662]    [0.3071134]   [0.2599663]   [0.18537167]   \n",
       "\n",
       "                150           165           173           185            190  \\\n",
       "100    [0.23667696]  [0.34121317]  [0.29294488]  [0.39255098]   [0.24429248]   \n",
       "144    [0.10360913]  [0.23064166]  [0.48668194]  [0.15115646]  [-0.06435494]   \n",
       "145  [-0.121329434]   [0.2243618]  [0.34011534]  [0.33208817]   [0.24229339]   \n",
       "15     [0.10220041]  [0.13877583]   [0.2546041]  [0.06408824]   [0.21449697]   \n",
       "150     [0.7318371]  [0.44882792]  [0.20694938]  [0.10821664]   [0.24909456]   \n",
       "\n",
       "                211  ...            750            787            791  \\\n",
       "100    [0.39360762]  ...   [0.12573905]   [0.35411552]     [0.354013]   \n",
       "144   [0.054812375]  ...  [0.094966486]   [0.35662055]   [0.15482248]   \n",
       "145  [-0.028336812]  ...  [-0.09657165]   [0.21799672]   [0.41829064]   \n",
       "15    [0.062096484]  ...  [0.014776135]  [0.045110244]  [0.092281334]   \n",
       "150    [0.47057644]  ...   [0.21543115]   [0.28598124]   [0.22489356]   \n",
       "\n",
       "               84              86             87              91  \\\n",
       "100  [0.39428055]  [-0.060386486]  [-0.08442741]   [0.016803186]   \n",
       "144   [0.2738946]   [0.074721456]   [0.29477137]  [-0.037651446]   \n",
       "145  [0.20974039]    [0.13022557]   [0.34797898]    [0.17609188]   \n",
       "15   [0.07156711]    [0.10364716]    [0.3850168]  [-0.043028526]   \n",
       "150  [0.26328236]      [0.429473]   [0.24247454]    [0.17166135]   \n",
       "\n",
       "               95              97            99  \n",
       "100   [0.2932895]     [0.5544351]  [0.15746851]  \n",
       "144  [0.23197602]     [0.2782849]  [0.27204454]  \n",
       "145  [0.20393188]    [0.43079937]  [0.57789093]  \n",
       "15    [0.5992318]    [0.19234057]  [0.34869334]  \n",
       "150  [0.14341918]  [0.0018937625]  [0.13962786]  \n",
       "\n",
       "[5 rows x 50 columns]"
      ]
     },
     "execution_count": 11,
     "metadata": {},
     "output_type": "execute_result"
    }
   ],
   "source": [
    "aadhar_photo_similarity_df = calculate_cosine_similarity_between_pair_of_arrays_of_embeddings(embedding_df.index,\n",
    "                                                                                            embedding_df['Photo'],\n",
    "                                                                                            embedding_df['Aadhar'])\n",
    "aadhar_photo_similarity_df.head()"
   ]
  },
  {
   "cell_type": "code",
   "execution_count": 12,
   "metadata": {
    "scrolled": false
   },
   "outputs": [
    {
     "data": {
      "text/html": [
       "<div>\n",
       "<style scoped>\n",
       "    .dataframe tbody tr th:only-of-type {\n",
       "        vertical-align: middle;\n",
       "    }\n",
       "\n",
       "    .dataframe tbody tr th {\n",
       "        vertical-align: top;\n",
       "    }\n",
       "\n",
       "    .dataframe thead th {\n",
       "        text-align: right;\n",
       "    }\n",
       "</style>\n",
       "<table border=\"1\" class=\"dataframe\">\n",
       "  <thead>\n",
       "    <tr style=\"text-align: right;\">\n",
       "      <th></th>\n",
       "      <th>similarity between Aadhar and Photo of same person</th>\n",
       "      <th>max (similarity between Aadhar and Photo of different person)</th>\n",
       "    </tr>\n",
       "  </thead>\n",
       "  <tbody>\n",
       "    <tr>\n",
       "      <th>100</th>\n",
       "      <td>0.581518</td>\n",
       "      <td>0.481847</td>\n",
       "    </tr>\n",
       "    <tr>\n",
       "      <th>144</th>\n",
       "      <td>0.402851</td>\n",
       "      <td>0.538896</td>\n",
       "    </tr>\n",
       "    <tr>\n",
       "      <th>145</th>\n",
       "      <td>0.204239</td>\n",
       "      <td>0.464815</td>\n",
       "    </tr>\n",
       "    <tr>\n",
       "      <th>15</th>\n",
       "      <td>0.280243</td>\n",
       "      <td>0.448763</td>\n",
       "    </tr>\n",
       "    <tr>\n",
       "      <th>150</th>\n",
       "      <td>0.731837</td>\n",
       "      <td>0.373463</td>\n",
       "    </tr>\n",
       "  </tbody>\n",
       "</table>\n",
       "</div>"
      ],
      "text/plain": [
       "     similarity between Aadhar and Photo of same person  \\\n",
       "100                                           0.581518    \n",
       "144                                           0.402851    \n",
       "145                                           0.204239    \n",
       "15                                            0.280243    \n",
       "150                                           0.731837    \n",
       "\n",
       "     max (similarity between Aadhar and Photo of different person)  \n",
       "100                                           0.481847              \n",
       "144                                           0.538896              \n",
       "145                                           0.464815              \n",
       "15                                            0.448763              \n",
       "150                                           0.373463              "
      ]
     },
     "execution_count": 12,
     "metadata": {},
     "output_type": "execute_result"
    }
   ],
   "source": [
    "comparison_aadhar_photo = extract_all_diag_elements_and_max_in_each_col_except_diag_element(aadhar_photo_similarity_df, \n",
    "                                                                                            ['Aadhar', 'Photo'])\n",
    "comparison_aadhar_photo.head()"
   ]
  },
  {
   "cell_type": "code",
   "execution_count": 13,
   "metadata": {},
   "outputs": [],
   "source": [
    "arr1 = np.array(comparison_aadhar_photo[comparison_aadhar_photo.columns[0]])\n",
    "arr2 = np.array(comparison_aadhar_photo[comparison_aadhar_photo.columns[1]])"
   ]
  },
  {
   "cell_type": "code",
   "execution_count": 14,
   "metadata": {},
   "outputs": [],
   "source": [
    "labels_true = [1 for i in range(50)]\n",
    "labels_false = [0 for i in range(50)]"
   ]
  },
  {
   "cell_type": "code",
   "execution_count": 15,
   "metadata": {},
   "outputs": [],
   "source": [
    "X_train = np.concatenate((arr1, arr2)).reshape(-1, 1)\n",
    "y_train = np.concatenate((labels_true, labels_false))"
   ]
  },
  {
   "cell_type": "code",
   "execution_count": 16,
   "metadata": {
    "scrolled": true
   },
   "outputs": [
    {
     "data": {
      "image/png": "[encoded data removed]",
      "text/plain": [
       "<Figure size 432x288 with 1 Axes>"
      ]
     },
     "metadata": {},
     "output_type": "display_data"
    }
   ],
   "source": [
    "plot = sns.scatterplot(X_train.flatten(), y_train)\n",
    "plt.xlabel('Similarity')\n",
    "fig = plot.get_figure()\n",
    "fig.savefig(\"output1.png\", dpi=300)"
   ]
  },
  {
   "cell_type": "code",
   "execution_count": 17,
   "metadata": {},
   "outputs": [
    {
     "data": {
      "text/plain": [
       "LogisticRegression(C=1.0, class_weight=None, dual=False, fit_intercept=True,\n",
       "                   intercept_scaling=1, l1_ratio=None, max_iter=100,\n",
       "                   multi_class='warn', n_jobs=None, penalty='l2',\n",
       "                   random_state=None, solver='lbfgs', tol=0.0001, verbose=0,\n",
       "                   warm_start=False)"
      ]
     },
     "execution_count": 17,
     "metadata": {},
     "output_type": "execute_result"
    }
   ],
   "source": [
    "logreg = LogisticRegression(solver = 'lbfgs')\n",
    "logreg.fit(X_train,y_train)"
   ]
  },
  {
   "cell_type": "code",
   "execution_count": 18,
   "metadata": {},
   "outputs": [],
   "source": [
    "probs = logreg.predict_proba(X_train)\n",
    "probs = probs[:, 1]"
   ]
  },
  {
   "cell_type": "code",
   "execution_count": 19,
   "metadata": {},
   "outputs": [
    {
     "name": "stdout",
     "output_type": "stream",
     "text": [
      "AUC: 0.58\n"
     ]
    }
   ],
   "source": [
    "auc = roc_auc_score(y_train, probs)\n",
    "print('AUC: %.2f' % auc)"
   ]
  },
  {
   "cell_type": "code",
   "execution_count": 86,
   "metadata": {},
   "outputs": [],
   "source": [
    "def plot_roc_curve(fpr, tpr):\n",
    "    plt.plot(fpr, tpr, color='orange', label='LogisticRegression, AUC=0.55')\n",
    "    plt.plot([0, 1], [0, 1], color='darkblue', linestyle='--')\n",
    "    plt.xlabel('False Positive Rate')\n",
    "    plt.ylabel('True Positive Rate')\n",
    "    #plt.title('Receiver Operating Characteristic (ROC) Curve')\n",
    "    plt.legend()\n",
    "    \n",
    "    #fig = plot.get_figure()\n",
    "    plt.savefig(\"output4.png\", dpi=300)\n",
    "    plt.show()"
   ]
  },
  {
   "cell_type": "code",
   "execution_count": 76,
   "metadata": {
    "scrolled": true
   },
   "outputs": [
    {
     "data": {
      "image/png": "[encoded data removed]",
      "text/plain": [
       "<Figure size 432x288 with 1 Axes>"
      ]
     },
     "metadata": {},
     "output_type": "display_data"
    }
   ],
   "source": [
    "fpr, tpr, thresholds = roc_curve(y_train, probs)\n",
    "plot_roc_curve(fpr, tpr)"
   ]
  },
  {
   "cell_type": "markdown",
   "metadata": {},
   "source": [
    "# Photo (ground truth) and PAN"
   ]
  },
  {
   "cell_type": "code",
   "execution_count": 78,
   "metadata": {},
   "outputs": [
    {
     "data": {
      "text/html": [
       "<div>\n",
       "<style scoped>\n",
       "    .dataframe tbody tr th:only-of-type {\n",
       "        vertical-align: middle;\n",
       "    }\n",
       "\n",
       "    .dataframe tbody tr th {\n",
       "        vertical-align: top;\n",
       "    }\n",
       "\n",
       "    .dataframe thead th {\n",
       "        text-align: right;\n",
       "    }\n",
       "</style>\n",
       "<table border=\"1\" class=\"dataframe\">\n",
       "  <thead>\n",
       "    <tr style=\"text-align: right;\">\n",
       "      <th></th>\n",
       "      <th>100</th>\n",
       "      <th>144</th>\n",
       "      <th>145</th>\n",
       "      <th>15</th>\n",
       "      <th>150</th>\n",
       "      <th>165</th>\n",
       "      <th>173</th>\n",
       "      <th>185</th>\n",
       "      <th>190</th>\n",
       "      <th>211</th>\n",
       "      <th>...</th>\n",
       "      <th>750</th>\n",
       "      <th>787</th>\n",
       "      <th>791</th>\n",
       "      <th>84</th>\n",
       "      <th>86</th>\n",
       "      <th>87</th>\n",
       "      <th>91</th>\n",
       "      <th>95</th>\n",
       "      <th>97</th>\n",
       "      <th>99</th>\n",
       "    </tr>\n",
       "  </thead>\n",
       "  <tbody>\n",
       "    <tr>\n",
       "      <th>100</th>\n",
       "      <td>[0.569613]</td>\n",
       "      <td>[0.36276692]</td>\n",
       "      <td>[0.42853174]</td>\n",
       "      <td>[0.30944437]</td>\n",
       "      <td>[0.09186682]</td>\n",
       "      <td>[0.30306634]</td>\n",
       "      <td>[0.044028375]</td>\n",
       "      <td>[0.4305058]</td>\n",
       "      <td>[0.32551527]</td>\n",
       "      <td>[0.31519702]</td>\n",
       "      <td>...</td>\n",
       "      <td>[0.2064858]</td>\n",
       "      <td>[0.4022786]</td>\n",
       "      <td>[0.2125223]</td>\n",
       "      <td>[0.3182835]</td>\n",
       "      <td>[0.49371436]</td>\n",
       "      <td>[-0.046093386]</td>\n",
       "      <td>[0.07251705]</td>\n",
       "      <td>[0.12659831]</td>\n",
       "      <td>[0.43543053]</td>\n",
       "      <td>[0.1833803]</td>\n",
       "    </tr>\n",
       "    <tr>\n",
       "      <th>144</th>\n",
       "      <td>[0.27929842]</td>\n",
       "      <td>[0.51299727]</td>\n",
       "      <td>[0.46340334]</td>\n",
       "      <td>[0.34450495]</td>\n",
       "      <td>[0.13952886]</td>\n",
       "      <td>[0.43391117]</td>\n",
       "      <td>[0.21722294]</td>\n",
       "      <td>[0.02278967]</td>\n",
       "      <td>[0.0811299]</td>\n",
       "      <td>[0.11930564]</td>\n",
       "      <td>...</td>\n",
       "      <td>[0.119767494]</td>\n",
       "      <td>[0.27256694]</td>\n",
       "      <td>[0.20659526]</td>\n",
       "      <td>[0.28364402]</td>\n",
       "      <td>[0.5460394]</td>\n",
       "      <td>[0.28102267]</td>\n",
       "      <td>[0.29682913]</td>\n",
       "      <td>[0.06127008]</td>\n",
       "      <td>[0.16084385]</td>\n",
       "      <td>[0.3711147]</td>\n",
       "    </tr>\n",
       "    <tr>\n",
       "      <th>145</th>\n",
       "      <td>[0.213435]</td>\n",
       "      <td>[0.13197444]</td>\n",
       "      <td>[0.43685198]</td>\n",
       "      <td>[0.4107715]</td>\n",
       "      <td>[0.08645578]</td>\n",
       "      <td>[0.19931036]</td>\n",
       "      <td>[-0.0060895747]</td>\n",
       "      <td>[0.051013064]</td>\n",
       "      <td>[0.24683061]</td>\n",
       "      <td>[0.16481295]</td>\n",
       "      <td>...</td>\n",
       "      <td>[0.0129960105]</td>\n",
       "      <td>[0.20892781]</td>\n",
       "      <td>[0.3141431]</td>\n",
       "      <td>[-0.044879735]</td>\n",
       "      <td>[0.34626934]</td>\n",
       "      <td>[0.28317696]</td>\n",
       "      <td>[0.11742291]</td>\n",
       "      <td>[0.07961482]</td>\n",
       "      <td>[0.16658452]</td>\n",
       "      <td>[0.39405602]</td>\n",
       "    </tr>\n",
       "    <tr>\n",
       "      <th>15</th>\n",
       "      <td>[-0.10264892]</td>\n",
       "      <td>[0.11649351]</td>\n",
       "      <td>[0.3559432]</td>\n",
       "      <td>[0.695203]</td>\n",
       "      <td>[0.24397604]</td>\n",
       "      <td>[0.08424336]</td>\n",
       "      <td>[0.06249491]</td>\n",
       "      <td>[0.13101217]</td>\n",
       "      <td>[0.3168761]</td>\n",
       "      <td>[-0.046820555]</td>\n",
       "      <td>...</td>\n",
       "      <td>[0.052288823]</td>\n",
       "      <td>[-0.0234912]</td>\n",
       "      <td>[0.039187003]</td>\n",
       "      <td>[0.14187732]</td>\n",
       "      <td>[0.2897281]</td>\n",
       "      <td>[0.32463557]</td>\n",
       "      <td>[0.12550786]</td>\n",
       "      <td>[0.4485688]</td>\n",
       "      <td>[0.286621]</td>\n",
       "      <td>[0.34062165]</td>\n",
       "    </tr>\n",
       "    <tr>\n",
       "      <th>150</th>\n",
       "      <td>[0.09440001]</td>\n",
       "      <td>[0.079539575]</td>\n",
       "      <td>[0.20909199]</td>\n",
       "      <td>[0.08017993]</td>\n",
       "      <td>[0.33966324]</td>\n",
       "      <td>[0.14772652]</td>\n",
       "      <td>[0.34182438]</td>\n",
       "      <td>[-0.07011549]</td>\n",
       "      <td>[0.081832394]</td>\n",
       "      <td>[0.20612085]</td>\n",
       "      <td>...</td>\n",
       "      <td>[0.070306055]</td>\n",
       "      <td>[0.25704718]</td>\n",
       "      <td>[0.058145203]</td>\n",
       "      <td>[0.2290864]</td>\n",
       "      <td>[0.016567422]</td>\n",
       "      <td>[0.099532336]</td>\n",
       "      <td>[0.19737582]</td>\n",
       "      <td>[0.08357217]</td>\n",
       "      <td>[0.18734755]</td>\n",
       "      <td>[0.31748864]</td>\n",
       "    </tr>\n",
       "  </tbody>\n",
       "</table>\n",
       "<p>5 rows × 50 columns</p>\n",
       "</div>"
      ],
      "text/plain": [
       "               100            144           145            15           150  \\\n",
       "100     [0.569613]   [0.36276692]  [0.42853174]  [0.30944437]  [0.09186682]   \n",
       "144   [0.27929842]   [0.51299727]  [0.46340334]  [0.34450495]  [0.13952886]   \n",
       "145     [0.213435]   [0.13197444]  [0.43685198]   [0.4107715]  [0.08645578]   \n",
       "15   [-0.10264892]   [0.11649351]   [0.3559432]    [0.695203]  [0.24397604]   \n",
       "150   [0.09440001]  [0.079539575]  [0.20909199]  [0.08017993]  [0.33966324]   \n",
       "\n",
       "              165              173            185            190  \\\n",
       "100  [0.30306634]    [0.044028375]    [0.4305058]   [0.32551527]   \n",
       "144  [0.43391117]     [0.21722294]   [0.02278967]    [0.0811299]   \n",
       "145  [0.19931036]  [-0.0060895747]  [0.051013064]   [0.24683061]   \n",
       "15   [0.08424336]     [0.06249491]   [0.13101217]    [0.3168761]   \n",
       "150  [0.14772652]     [0.34182438]  [-0.07011549]  [0.081832394]   \n",
       "\n",
       "                211  ...             750           787            791  \\\n",
       "100    [0.31519702]  ...     [0.2064858]   [0.4022786]    [0.2125223]   \n",
       "144    [0.11930564]  ...   [0.119767494]  [0.27256694]   [0.20659526]   \n",
       "145    [0.16481295]  ...  [0.0129960105]  [0.20892781]    [0.3141431]   \n",
       "15   [-0.046820555]  ...   [0.052288823]  [-0.0234912]  [0.039187003]   \n",
       "150    [0.20612085]  ...   [0.070306055]  [0.25704718]  [0.058145203]   \n",
       "\n",
       "                 84             86              87            91  \\\n",
       "100     [0.3182835]   [0.49371436]  [-0.046093386]  [0.07251705]   \n",
       "144    [0.28364402]    [0.5460394]    [0.28102267]  [0.29682913]   \n",
       "145  [-0.044879735]   [0.34626934]    [0.28317696]  [0.11742291]   \n",
       "15     [0.14187732]    [0.2897281]    [0.32463557]  [0.12550786]   \n",
       "150     [0.2290864]  [0.016567422]   [0.099532336]  [0.19737582]   \n",
       "\n",
       "               95            97            99  \n",
       "100  [0.12659831]  [0.43543053]   [0.1833803]  \n",
       "144  [0.06127008]  [0.16084385]   [0.3711147]  \n",
       "145  [0.07961482]  [0.16658452]  [0.39405602]  \n",
       "15    [0.4485688]    [0.286621]  [0.34062165]  \n",
       "150  [0.08357217]  [0.18734755]  [0.31748864]  \n",
       "\n",
       "[5 rows x 50 columns]"
      ]
     },
     "execution_count": 78,
     "metadata": {},
     "output_type": "execute_result"
    }
   ],
   "source": [
    "pan_photo_similarity_df = calculate_cosine_similarity_between_pair_of_arrays_of_embeddings(embedding_df.index,\n",
    "                                                                                           embedding_df['Photo'],\n",
    "                                                                                           embedding_df['PAN'])\n",
    "pan_photo_similarity_df.head()"
   ]
  },
  {
   "cell_type": "code",
   "execution_count": 79,
   "metadata": {
    "scrolled": true
   },
   "outputs": [
    {
     "data": {
      "text/html": [
       "<div>\n",
       "<style scoped>\n",
       "    .dataframe tbody tr th:only-of-type {\n",
       "        vertical-align: middle;\n",
       "    }\n",
       "\n",
       "    .dataframe tbody tr th {\n",
       "        vertical-align: top;\n",
       "    }\n",
       "\n",
       "    .dataframe thead th {\n",
       "        text-align: right;\n",
       "    }\n",
       "</style>\n",
       "<table border=\"1\" class=\"dataframe\">\n",
       "  <thead>\n",
       "    <tr style=\"text-align: right;\">\n",
       "      <th></th>\n",
       "      <th>similarity between PAN and Photo of same person</th>\n",
       "      <th>max (similarity between PAN and Photo of different person)</th>\n",
       "    </tr>\n",
       "  </thead>\n",
       "  <tbody>\n",
       "    <tr>\n",
       "      <th>100</th>\n",
       "      <td>0.569613</td>\n",
       "      <td>0.608692</td>\n",
       "    </tr>\n",
       "    <tr>\n",
       "      <th>144</th>\n",
       "      <td>0.512997</td>\n",
       "      <td>0.533941</td>\n",
       "    </tr>\n",
       "    <tr>\n",
       "      <th>145</th>\n",
       "      <td>0.436852</td>\n",
       "      <td>0.583438</td>\n",
       "    </tr>\n",
       "    <tr>\n",
       "      <th>15</th>\n",
       "      <td>0.695203</td>\n",
       "      <td>0.567450</td>\n",
       "    </tr>\n",
       "    <tr>\n",
       "      <th>150</th>\n",
       "      <td>0.339663</td>\n",
       "      <td>0.491139</td>\n",
       "    </tr>\n",
       "  </tbody>\n",
       "</table>\n",
       "</div>"
      ],
      "text/plain": [
       "     similarity between PAN and Photo of same person  \\\n",
       "100                                         0.569613   \n",
       "144                                         0.512997   \n",
       "145                                         0.436852   \n",
       "15                                          0.695203   \n",
       "150                                         0.339663   \n",
       "\n",
       "     max (similarity between PAN and Photo of different person)  \n",
       "100                                           0.608692           \n",
       "144                                           0.533941           \n",
       "145                                           0.583438           \n",
       "15                                            0.567450           \n",
       "150                                           0.491139           "
      ]
     },
     "execution_count": 79,
     "metadata": {},
     "output_type": "execute_result"
    }
   ],
   "source": [
    "comparison_pan_photo = extract_all_diag_elements_and_max_in_each_col_except_diag_element(pan_photo_similarity_df, ['PAN', 'Photo'])\n",
    "comparison_pan_photo.head()"
   ]
  },
  {
   "cell_type": "code",
   "execution_count": 80,
   "metadata": {},
   "outputs": [],
   "source": [
    "arr1 = np.array(comparison_pan_photo[comparison_pan_photo.columns[0]])\n",
    "arr2 = np.array(comparison_pan_photo[comparison_pan_photo.columns[1]])"
   ]
  },
  {
   "cell_type": "code",
   "execution_count": 81,
   "metadata": {},
   "outputs": [],
   "source": [
    "X_train = np.concatenate((arr1, arr2)).reshape(-1, 1)\n",
    "y_train = np.concatenate((labels_true, labels_false))"
   ]
  },
  {
   "cell_type": "code",
   "execution_count": 82,
   "metadata": {
    "scrolled": true
   },
   "outputs": [
    {
     "data": {
      "image/png": "[encoded data removed]",
      "text/plain": [
       "<Figure size 432x288 with 1 Axes>"
      ]
     },
     "metadata": {},
     "output_type": "display_data"
    }
   ],
   "source": [
    "plot = sns.scatterplot(X_train.flatten(), y_train)\n",
    "plt.xlabel('Similarity')\n",
    "fig = plot.get_figure()\n",
    "fig.savefig(\"output2.png\", dpi=1200)"
   ]
  },
  {
   "cell_type": "code",
   "execution_count": 83,
   "metadata": {},
   "outputs": [
    {
     "data": {
      "text/plain": [
       "LogisticRegression(C=1.0, class_weight=None, dual=False, fit_intercept=True,\n",
       "                   intercept_scaling=1, l1_ratio=None, max_iter=100,\n",
       "                   multi_class='warn', n_jobs=None, penalty='l2',\n",
       "                   random_state=None, solver='lbfgs', tol=0.0001, verbose=0,\n",
       "                   warm_start=False)"
      ]
     },
     "execution_count": 83,
     "metadata": {},
     "output_type": "execute_result"
    }
   ],
   "source": [
    "logreg = LogisticRegression(solver = 'lbfgs', max_iter = 100)\n",
    "logreg.fit(X_train,y_train)"
   ]
  },
  {
   "cell_type": "code",
   "execution_count": 84,
   "metadata": {},
   "outputs": [],
   "source": [
    "probs = logreg.predict_proba(X_train)\n",
    "probs = probs[:, 1]"
   ]
  },
  {
   "cell_type": "code",
   "execution_count": 85,
   "metadata": {},
   "outputs": [
    {
     "name": "stdout",
     "output_type": "stream",
     "text": [
      "AUC: 0.55\n"
     ]
    }
   ],
   "source": [
    "auc = roc_auc_score(y_train, probs)\n",
    "print('AUC: %.2f' % auc)"
   ]
  },
  {
   "cell_type": "code",
   "execution_count": 87,
   "metadata": {},
   "outputs": [
    {
     "data": {
      "image/png": "[encoded data removed]",
      "text/plain": [
       "<Figure size 432x288 with 1 Axes>"
      ]
     },
     "metadata": {},
     "output_type": "display_data"
    }
   ],
   "source": [
    "fpr, tpr, thresholds = roc_curve(y_train, probs)\n",
    "plot_roc_curve(fpr, tpr)"
   ]
  },
  {
   "cell_type": "markdown",
   "metadata": {},
   "source": [
    "# Aadhar and PAN"
   ]
  },
  {
   "cell_type": "code",
   "execution_count": 142,
   "metadata": {
    "scrolled": false
   },
   "outputs": [
    {
     "data": {
      "text/html": [
       "<div>\n",
       "<style scoped>\n",
       "    .dataframe tbody tr th:only-of-type {\n",
       "        vertical-align: middle;\n",
       "    }\n",
       "\n",
       "    .dataframe tbody tr th {\n",
       "        vertical-align: top;\n",
       "    }\n",
       "\n",
       "    .dataframe thead th {\n",
       "        text-align: right;\n",
       "    }\n",
       "</style>\n",
       "<table border=\"1\" class=\"dataframe\">\n",
       "  <thead>\n",
       "    <tr style=\"text-align: right;\">\n",
       "      <th></th>\n",
       "      <th>100</th>\n",
       "      <th>144</th>\n",
       "      <th>145</th>\n",
       "      <th>15</th>\n",
       "      <th>150</th>\n",
       "      <th>165</th>\n",
       "      <th>173</th>\n",
       "      <th>185</th>\n",
       "      <th>190</th>\n",
       "      <th>211</th>\n",
       "      <th>...</th>\n",
       "      <th>65</th>\n",
       "      <th>720</th>\n",
       "      <th>73</th>\n",
       "      <th>743</th>\n",
       "      <th>744</th>\n",
       "      <th>750</th>\n",
       "      <th>787</th>\n",
       "      <th>791</th>\n",
       "      <th>84</th>\n",
       "      <th>86</th>\n",
       "    </tr>\n",
       "  </thead>\n",
       "  <tbody>\n",
       "    <tr>\n",
       "      <th>100</th>\n",
       "      <td>[0.3672474]</td>\n",
       "      <td>[0.2415284]</td>\n",
       "      <td>[0.1343661]</td>\n",
       "      <td>[-0.14896286]</td>\n",
       "      <td>[0.057132274]</td>\n",
       "      <td>[0.35320044]</td>\n",
       "      <td>[0.41099596]</td>\n",
       "      <td>[0.23121941]</td>\n",
       "      <td>[0.07986722]</td>\n",
       "      <td>[0.33063895]</td>\n",
       "      <td>...</td>\n",
       "      <td>[-0.10668862]</td>\n",
       "      <td>[0.2792077]</td>\n",
       "      <td>[0.24976319]</td>\n",
       "      <td>[0.24042234]</td>\n",
       "      <td>[0.42865068]</td>\n",
       "      <td>[0.14158835]</td>\n",
       "      <td>[0.3706298]</td>\n",
       "      <td>[0.16363]</td>\n",
       "      <td>[0.41469264]</td>\n",
       "      <td>[0.06711523]</td>\n",
       "    </tr>\n",
       "    <tr>\n",
       "      <th>144</th>\n",
       "      <td>[0.22001591]</td>\n",
       "      <td>[0.39860344]</td>\n",
       "      <td>[0.29353923]</td>\n",
       "      <td>[0.049605574]</td>\n",
       "      <td>[0.0798277]</td>\n",
       "      <td>[0.30607212]</td>\n",
       "      <td>[0.46930557]</td>\n",
       "      <td>[0.38523602]</td>\n",
       "      <td>[0.3426857]</td>\n",
       "      <td>[0.29390943]</td>\n",
       "      <td>...</td>\n",
       "      <td>[0.08156529]</td>\n",
       "      <td>[0.3091106]</td>\n",
       "      <td>[0.0025482702]</td>\n",
       "      <td>[0.3933915]</td>\n",
       "      <td>[0.59577954]</td>\n",
       "      <td>[0.30045894]</td>\n",
       "      <td>[0.4876324]</td>\n",
       "      <td>[0.17314486]</td>\n",
       "      <td>[0.565784]</td>\n",
       "      <td>[-0.028539266]</td>\n",
       "    </tr>\n",
       "    <tr>\n",
       "      <th>145</th>\n",
       "      <td>[0.54889196]</td>\n",
       "      <td>[0.17855032]</td>\n",
       "      <td>[0.4724103]</td>\n",
       "      <td>[0.3088307]</td>\n",
       "      <td>[0.09497729]</td>\n",
       "      <td>[0.635232]</td>\n",
       "      <td>[0.5397641]</td>\n",
       "      <td>[0.28486997]</td>\n",
       "      <td>[0.32583296]</td>\n",
       "      <td>[0.42990118]</td>\n",
       "      <td>...</td>\n",
       "      <td>[0.111029744]</td>\n",
       "      <td>[0.3847152]</td>\n",
       "      <td>[0.4841836]</td>\n",
       "      <td>[0.22755441]</td>\n",
       "      <td>[0.38725427]</td>\n",
       "      <td>[0.33298692]</td>\n",
       "      <td>[0.57052416]</td>\n",
       "      <td>[0.36967722]</td>\n",
       "      <td>[0.34713608]</td>\n",
       "      <td>[0.2762115]</td>\n",
       "    </tr>\n",
       "    <tr>\n",
       "      <th>15</th>\n",
       "      <td>[0.6442774]</td>\n",
       "      <td>[0.14524738]</td>\n",
       "      <td>[0.4001825]</td>\n",
       "      <td>[0.36039698]</td>\n",
       "      <td>[0.23734131]</td>\n",
       "      <td>[0.3856585]</td>\n",
       "      <td>[0.37270948]</td>\n",
       "      <td>[0.3216282]</td>\n",
       "      <td>[0.35012355]</td>\n",
       "      <td>[0.3032155]</td>\n",
       "      <td>...</td>\n",
       "      <td>[0.31870142]</td>\n",
       "      <td>[0.43943596]</td>\n",
       "      <td>[0.27785823]</td>\n",
       "      <td>[0.3323632]</td>\n",
       "      <td>[0.32886064]</td>\n",
       "      <td>[0.18658395]</td>\n",
       "      <td>[0.26452225]</td>\n",
       "      <td>[0.2642633]</td>\n",
       "      <td>[0.19117013]</td>\n",
       "      <td>[0.19979471]</td>\n",
       "    </tr>\n",
       "    <tr>\n",
       "      <th>150</th>\n",
       "      <td>[0.07408964]</td>\n",
       "      <td>[0.17118387]</td>\n",
       "      <td>[0.33219904]</td>\n",
       "      <td>[0.34905833]</td>\n",
       "      <td>[0.2035962]</td>\n",
       "      <td>[0.58203137]</td>\n",
       "      <td>[0.3963403]</td>\n",
       "      <td>[0.123175494]</td>\n",
       "      <td>[0.26607317]</td>\n",
       "      <td>[0.19872934]</td>\n",
       "      <td>...</td>\n",
       "      <td>[0.36508384]</td>\n",
       "      <td>[0.30462912]</td>\n",
       "      <td>[0.15178896]</td>\n",
       "      <td>[0.3120603]</td>\n",
       "      <td>[0.10171045]</td>\n",
       "      <td>[0.21318519]</td>\n",
       "      <td>[0.24272129]</td>\n",
       "      <td>[0.12984304]</td>\n",
       "      <td>[0.14073096]</td>\n",
       "      <td>[0.21359682]</td>\n",
       "    </tr>\n",
       "  </tbody>\n",
       "</table>\n",
       "<p>5 rows × 45 columns</p>\n",
       "</div>"
      ],
      "text/plain": [
       "              100           144           145             15            150  \\\n",
       "100   [0.3672474]   [0.2415284]   [0.1343661]  [-0.14896286]  [0.057132274]   \n",
       "144  [0.22001591]  [0.39860344]  [0.29353923]  [0.049605574]    [0.0798277]   \n",
       "145  [0.54889196]  [0.17855032]   [0.4724103]    [0.3088307]   [0.09497729]   \n",
       "15    [0.6442774]  [0.14524738]   [0.4001825]   [0.36039698]   [0.23734131]   \n",
       "150  [0.07408964]  [0.17118387]  [0.33219904]   [0.34905833]    [0.2035962]   \n",
       "\n",
       "              165           173            185           190           211  \\\n",
       "100  [0.35320044]  [0.41099596]   [0.23121941]  [0.07986722]  [0.33063895]   \n",
       "144  [0.30607212]  [0.46930557]   [0.38523602]   [0.3426857]  [0.29390943]   \n",
       "145    [0.635232]   [0.5397641]   [0.28486997]  [0.32583296]  [0.42990118]   \n",
       "15    [0.3856585]  [0.37270948]    [0.3216282]  [0.35012355]   [0.3032155]   \n",
       "150  [0.58203137]   [0.3963403]  [0.123175494]  [0.26607317]  [0.19872934]   \n",
       "\n",
       "     ...             65           720              73           743  \\\n",
       "100  ...  [-0.10668862]   [0.2792077]    [0.24976319]  [0.24042234]   \n",
       "144  ...   [0.08156529]   [0.3091106]  [0.0025482702]   [0.3933915]   \n",
       "145  ...  [0.111029744]   [0.3847152]     [0.4841836]  [0.22755441]   \n",
       "15   ...   [0.31870142]  [0.43943596]    [0.27785823]   [0.3323632]   \n",
       "150  ...   [0.36508384]  [0.30462912]    [0.15178896]   [0.3120603]   \n",
       "\n",
       "              744           750           787           791            84  \\\n",
       "100  [0.42865068]  [0.14158835]   [0.3706298]     [0.16363]  [0.41469264]   \n",
       "144  [0.59577954]  [0.30045894]   [0.4876324]  [0.17314486]    [0.565784]   \n",
       "145  [0.38725427]  [0.33298692]  [0.57052416]  [0.36967722]  [0.34713608]   \n",
       "15   [0.32886064]  [0.18658395]  [0.26452225]   [0.2642633]  [0.19117013]   \n",
       "150  [0.10171045]  [0.21318519]  [0.24272129]  [0.12984304]  [0.14073096]   \n",
       "\n",
       "                 86  \n",
       "100    [0.06711523]  \n",
       "144  [-0.028539266]  \n",
       "145     [0.2762115]  \n",
       "15     [0.19979471]  \n",
       "150    [0.21359682]  \n",
       "\n",
       "[5 rows x 45 columns]"
      ]
     },
     "execution_count": 142,
     "metadata": {},
     "output_type": "execute_result"
    }
   ],
   "source": [
    "aadhar_pan_similarity_df = calculate_cosine_similarity_between_pair_of_arrays_of_embeddings(embedding_df.index,\n",
    "                                                                                            embedding_df['PAN'],\n",
    "                                                                                            embedding_df['Aadhar'])\n",
    "aadhar_pan_similarity_df.head()"
   ]
  },
  {
   "cell_type": "code",
   "execution_count": 143,
   "metadata": {
    "scrolled": true
   },
   "outputs": [
    {
     "data": {
      "text/html": [
       "<div>\n",
       "<style scoped>\n",
       "    .dataframe tbody tr th:only-of-type {\n",
       "        vertical-align: middle;\n",
       "    }\n",
       "\n",
       "    .dataframe tbody tr th {\n",
       "        vertical-align: top;\n",
       "    }\n",
       "\n",
       "    .dataframe thead th {\n",
       "        text-align: right;\n",
       "    }\n",
       "</style>\n",
       "<table border=\"1\" class=\"dataframe\">\n",
       "  <thead>\n",
       "    <tr style=\"text-align: right;\">\n",
       "      <th></th>\n",
       "      <th>similarity between Aadhar and PAN of same person</th>\n",
       "      <th>max (similarity between Aadhar and PAN of different person)</th>\n",
       "    </tr>\n",
       "  </thead>\n",
       "  <tbody>\n",
       "    <tr>\n",
       "      <th>100</th>\n",
       "      <td>0.367247</td>\n",
       "      <td>0.644277</td>\n",
       "    </tr>\n",
       "    <tr>\n",
       "      <th>144</th>\n",
       "      <td>0.398603</td>\n",
       "      <td>0.637981</td>\n",
       "    </tr>\n",
       "    <tr>\n",
       "      <th>145</th>\n",
       "      <td>0.472410</td>\n",
       "      <td>0.572848</td>\n",
       "    </tr>\n",
       "    <tr>\n",
       "      <th>15</th>\n",
       "      <td>0.360397</td>\n",
       "      <td>0.603063</td>\n",
       "    </tr>\n",
       "    <tr>\n",
       "      <th>150</th>\n",
       "      <td>0.203596</td>\n",
       "      <td>0.399681</td>\n",
       "    </tr>\n",
       "  </tbody>\n",
       "</table>\n",
       "</div>"
      ],
      "text/plain": [
       "     similarity between Aadhar and PAN of same person  \\\n",
       "100                                          0.367247   \n",
       "144                                          0.398603   \n",
       "145                                          0.472410   \n",
       "15                                           0.360397   \n",
       "150                                          0.203596   \n",
       "\n",
       "     max (similarity between Aadhar and PAN of different person)  \n",
       "100                                           0.644277            \n",
       "144                                           0.637981            \n",
       "145                                           0.572848            \n",
       "15                                            0.603063            \n",
       "150                                           0.399681            "
      ]
     },
     "execution_count": 143,
     "metadata": {},
     "output_type": "execute_result"
    }
   ],
   "source": [
    "comparison_aadhar_pan = extract_all_diag_elements_and_max_in_each_col_except_diag_element(aadhar_pan_similarity_df, ['Aadhar', 'PAN'])\n",
    "comparison_aadhar_pan.head()"
   ]
  },
  {
   "cell_type": "code",
   "execution_count": 227,
   "metadata": {},
   "outputs": [],
   "source": [
    "arr1 = np.array(comparison_aadhar_pan[comparison_aadhar_pan.columns[0]])\n",
    "arr2 = np.array(comparison_aadhar_pan[comparison_aadhar_pan.columns[1]])"
   ]
  },
  {
   "cell_type": "code",
   "execution_count": 228,
   "metadata": {},
   "outputs": [],
   "source": [
    "X_train = np.concatenate((arr1, arr2)).reshape(-1, 1)\n",
    "y_train = np.concatenate((labels_true, labels_false))"
   ]
  },
  {
   "cell_type": "code",
   "execution_count": 229,
   "metadata": {
    "scrolled": true
   },
   "outputs": [
    {
     "data": {
      "text/plain": [
       "Text(0.5, 0, 'Similarity')"
      ]
     },
     "execution_count": 229,
     "metadata": {},
     "output_type": "execute_result"
    },
    {
     "data": {
      "image/png": "[encoded data removed]",
      "text/plain": [
       "<Figure size 432x288 with 1 Axes>"
      ]
     },
     "metadata": {
      "needs_background": "light"
     },
     "output_type": "display_data"
    }
   ],
   "source": [
    "plt.plot(X_train, y_train, 'o')\n",
    "plt.xlabel('Similarity')"
   ]
  },
  {
   "cell_type": "code",
   "execution_count": 230,
   "metadata": {},
   "outputs": [
    {
     "data": {
      "text/plain": [
       "LogisticRegression(C=1.0, class_weight=None, dual=False, fit_intercept=True,\n",
       "                   intercept_scaling=1, l1_ratio=None, max_iter=100,\n",
       "                   multi_class='warn', n_jobs=None, penalty='l2',\n",
       "                   random_state=None, solver='lbfgs', tol=0.0001, verbose=0,\n",
       "                   warm_start=False)"
      ]
     },
     "execution_count": 230,
     "metadata": {},
     "output_type": "execute_result"
    }
   ],
   "source": [
    "logreg = LogisticRegression(solver = 'lbfgs', max_iter = 100)\n",
    "logreg.fit(X_train,y_train)"
   ]
  },
  {
   "cell_type": "code",
   "execution_count": 231,
   "metadata": {},
   "outputs": [],
   "source": [
    "probs = logreg.predict_proba(X_train)\n",
    "probs = probs[:, 1]"
   ]
  },
  {
   "cell_type": "code",
   "execution_count": 232,
   "metadata": {},
   "outputs": [
    {
     "name": "stdout",
     "output_type": "stream",
     "text": [
      "AUC: 0.59\n"
     ]
    }
   ],
   "source": [
    "auc = roc_auc_score(y_train, probs)\n",
    "print('AUC: %.2f' % auc)"
   ]
  },
  {
   "cell_type": "code",
   "execution_count": 233,
   "metadata": {
    "scrolled": true
   },
   "outputs": [
    {
     "data": {
      "image/png": "[encoded data removed]",
      "text/plain": [
       "<Figure size 432x288 with 1 Axes>"
      ]
     },
     "metadata": {
      "needs_background": "light"
     },
     "output_type": "display_data"
    }
   ],
   "source": [
    "fpr, tpr, thresholds = roc_curve(y_train, probs)\n",
    "plot_roc_curve(fpr, tpr)"
   ]
  }
 ],
 "metadata": {
  "kernelspec": {
   "display_name": "Python 3",
   "language": "python",
   "name": "python3"
  },
  "language_info": {
   "codemirror_mode": {
    "name": "ipython",
    "version": 3
   },
   "file_extension": ".py",
   "mimetype": "text/x-python",
   "name": "python",
   "nbconvert_exporter": "python",
   "pygments_lexer": "ipython3",
   "version": "3.7.5"
  }
 },
 "nbformat": 4,
 "nbformat_minor": 2
}
