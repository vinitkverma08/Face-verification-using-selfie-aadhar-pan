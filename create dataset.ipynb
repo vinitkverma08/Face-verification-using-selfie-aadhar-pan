{
 "cells": [
  {
   "cell_type": "code",
   "execution_count": 1,
   "metadata": {},
   "outputs": [],
   "source": [
    "import os\n",
    "import glob\n",
    "import shutil"
   ]
  },
  {
   "cell_type": "code",
   "execution_count": 2,
   "metadata": {},
   "outputs": [],
   "source": [
    "names = []\n",
    "for path in glob.glob(r'C:\\Users\\Vineet Kumar Verma\\Desktop\\Major Part - 1\\Face Matching\\Aadhar\\*.jpg'):\n",
    "    names.append(os.path.basename(path))"
   ]
  },
  {
   "cell_type": "code",
   "execution_count": 3,
   "metadata": {},
   "outputs": [],
   "source": [
    "training = names[:45]\n",
    "testing = names[45:]"
   ]
  },
  {
   "cell_type": "code",
   "execution_count": 4,
   "metadata": {},
   "outputs": [],
   "source": [
    "def create_folders_for_each_person(src, dst):\n",
    "    \n",
    "    folder_number = src.split('.')[0]\n",
    "    new_path = os.path.join(dst, folder_number)\n",
    "    \n",
    "    if not os.path.exists(new_path):\n",
    "        os.makedirs(new_path)\n",
    "    \n",
    "    aadhar_img = os.path.join(r'C:\\Users\\Vineet Kumar Verma\\Desktop\\Major Part - 1\\Face Matching\\Aadhar', src)\n",
    "    pan_img = os.path.join(r'C:\\Users\\Vineet Kumar Verma\\Desktop\\Major Part - 1\\Face Matching\\PAN', src)\n",
    "    photo_img = os.path.join(r'C:\\Users\\Vineet Kumar Verma\\Desktop\\Major Part - 1\\Face Matching\\Photo', src)\n",
    "    new_img_path = os.path.join(new_path, src)\n",
    "\n",
    "    shutil.copy(aadhar_img, new_path)\n",
    "    os.rename(new_img_path, os.path.join(os.path.dirname(new_img_path), '1.jpg'))\n",
    "    \n",
    "    shutil.copy(pan_img, new_path)\n",
    "    os.rename(new_img_path, os.path.join(os.path.dirname(new_img_path), '2.jpg'))\n",
    "    \n",
    "    shutil.copy(photo_img, new_path)\n",
    "    os.rename(new_img_path, os.path.join(os.path.dirname(new_img_path), '3.jpg'))"
   ]
  },
  {
   "cell_type": "code",
   "execution_count": 5,
   "metadata": {},
   "outputs": [],
   "source": [
    "for i in training:\n",
    "    create_folders_for_each_person(i, r'C:\\Users\\Vineet Kumar Verma\\Desktop\\Major Part - 1\\Face Matching\\training')"
   ]
  },
  {
   "cell_type": "code",
   "execution_count": 6,
   "metadata": {},
   "outputs": [],
   "source": [
    "for i in testing:\n",
    "    create_folders_for_each_person(i, r'C:\\Users\\Vineet Kumar Verma\\Desktop\\Major Part - 1\\Face Matching\\testing')"
   ]
  }
 ],
 "metadata": {
  "kernelspec": {
   "display_name": "Python 3",
   "language": "python",
   "name": "python3"
  },
  "language_info": {
   "codemirror_mode": {
    "name": "ipython",
    "version": 3
   },
   "file_extension": ".py",
   "mimetype": "text/x-python",
   "name": "python",
   "nbconvert_exporter": "python",
   "pygments_lexer": "ipython3",
   "version": "3.7.5"
  }
 },
 "nbformat": 4,
 "nbformat_minor": 2
}
