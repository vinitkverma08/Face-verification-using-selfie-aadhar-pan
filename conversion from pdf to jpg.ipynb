{
 "cells": [
  {
   "cell_type": "code",
   "execution_count": 2,
   "metadata": {},
   "outputs": [],
   "source": [
    "import os\n",
    "import glob\n",
    "from pdf2image import convert_from_path"
   ]
  },
  {
   "cell_type": "code",
   "execution_count": 78,
   "metadata": {},
   "outputs": [],
   "source": [
    "path_aadhar_pdf = glob.glob('C:/Users/Vineet Kumar Verma/Desktop/Major Part - 1/dataset_of_faces/RupeeGo Project/Aadhar/*.pdf')\n",
    "path_pan_pdf = glob.glob('C:/Users/Vineet Kumar Verma/Desktop/Major Part - 1/dataset_of_faces/RupeeGo Project/PAN/*.pdf')\n",
    "path_photo_pdf = glob.glob('C:/Users/Vineet Kumar Verma/Desktop/Major Part - 1/dataset_of_faces/RupeeGo Project/Photo/*.pdf')"
   ]
  },
  {
   "cell_type": "code",
   "execution_count": 112,
   "metadata": {},
   "outputs": [],
   "source": [
    "for file in path_aadhar_pdf:\n",
    "    head, tail = os.path.split(file)\n",
    "    image = convert_from_path(head + '/' + tail)\n",
    "    image[0].save(head + '/' + (lambda x: x.split('.')[0])(tail) + '.jpg')"
   ]
  },
  {
   "cell_type": "code",
   "execution_count": null,
   "metadata": {
    "scrolled": true
   },
   "outputs": [],
   "source": [
    "for file in path_pan_pdf:\n",
    "    head, tail = os.path.split(file)\n",
    "    image = convert_from_path(head + '/' + tail)\n",
    "    image[0].save(head + '/' + (lambda x: x.split('.')[0])(tail) + '.jpg')s"
   ]
  },
  {
   "cell_type": "code",
   "execution_count": 123,
   "metadata": {},
   "outputs": [],
   "source": [
    "for file in path_photo_pdf:\n",
    "    head, tail = os.path.split(file)\n",
    "    image = convert_from_path(head + '/' + tail)\n",
    "    image[0].save(head + '/' + (lambda x: x.split('.')[0])(tail) + '.jpg')"
   ]
  }
 ],
 "metadata": {
  "kernelspec": {
   "display_name": "Python 3",
   "language": "python",
   "name": "python3"
  },
  "language_info": {
   "codemirror_mode": {
    "name": "ipython",
    "version": 3
   },
   "file_extension": ".py",
   "mimetype": "text/x-python",
   "name": "python",
   "nbconvert_exporter": "python",
   "pygments_lexer": "ipython3",
   "version": "3.7.5"
  }
 },
 "nbformat": 4,
 "nbformat_minor": 2
}
