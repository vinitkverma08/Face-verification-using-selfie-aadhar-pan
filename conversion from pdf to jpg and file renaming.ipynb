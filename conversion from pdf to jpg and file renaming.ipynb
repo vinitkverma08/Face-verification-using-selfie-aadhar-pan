{
 "cells": [
  {
   "cell_type": "code",
   "execution_count": 1,
   "metadata": {},
   "outputs": [
    {
     "ename": "ModuleNotFoundError",
     "evalue": "No module named 'pdf2image'",
     "output_type": "error",
     "traceback": [
      "\u001b[1;31m---------------------------------------------------------------------------\u001b[0m",
      "\u001b[1;31mModuleNotFoundError\u001b[0m                       Traceback (most recent call last)",
      "\u001b[1;32m<ipython-input-1-0d88bfdc3120>\u001b[0m in \u001b[0;36m<module>\u001b[1;34m\u001b[0m\n\u001b[0;32m      1\u001b[0m \u001b[1;32mimport\u001b[0m \u001b[0mos\u001b[0m\u001b[1;33m\u001b[0m\u001b[1;33m\u001b[0m\u001b[0m\n\u001b[0;32m      2\u001b[0m \u001b[1;32mimport\u001b[0m \u001b[0mglob\u001b[0m\u001b[1;33m\u001b[0m\u001b[1;33m\u001b[0m\u001b[0m\n\u001b[1;32m----> 3\u001b[1;33m \u001b[1;32mfrom\u001b[0m \u001b[0mpdf2image\u001b[0m \u001b[1;32mimport\u001b[0m \u001b[0mconvert_from_path\u001b[0m\u001b[1;33m\u001b[0m\u001b[1;33m\u001b[0m\u001b[0m\n\u001b[0m",
      "\u001b[1;31mModuleNotFoundError\u001b[0m: No module named 'pdf2image'"
     ]
    }
   ],
   "source": [
    "import os\n",
    "import glob\n",
    "from pdf2image import convert_from_path"
   ]
  },
  {
   "cell_type": "code",
   "execution_count": 78,
   "metadata": {},
   "outputs": [],
   "source": [
    "path_aadhar_pdf = glob.glob('C:/Users/Vineet Kumar Verma/Desktop/Major Part - 1/dataset_of_faces/RupeeGo Project/Aadhar/*.pdf')\n",
    "path_pan_pdf = glob.glob('C:/Users/Vineet Kumar Verma/Desktop/Major Part - 1/dataset_of_faces/RupeeGo Project/PAN/*.pdf')\n",
    "path_photo_pdf = glob.glob('C:/Users/Vineet Kumar Verma/Desktop/Major Part - 1/dataset_of_faces/RupeeGo Project/Photo/*.pdf')"
   ]
  },
  {
   "cell_type": "code",
   "execution_count": 112,
   "metadata": {},
   "outputs": [],
   "source": [
    "for file in path_aadhar_pdf:\n",
    "    head, tail = os.path.split(file)\n",
    "    image = convert_from_path(head + '/' + tail)\n",
    "    image[0].save(head + '/' + (lambda x: x.split('.')[0])(tail) + '.jpg')\n",
    "\n",
    "for file in glob.glob('C:/Users/Vineet Kumar Verma/Desktop/Major Part - 1/dataset_of_faces/RupeeGo Project/Aadhar/*.*'):\n",
    "    os.rename(file, file.split('.')[0] + \".jpg\")"
   ]
  },
  {
   "cell_type": "code",
   "execution_count": null,
   "metadata": {
    "scrolled": true
   },
   "outputs": [],
   "source": [
    "for file in path_pan_pdf:\n",
    "    head, tail = os.path.split(file)\n",
    "    image = convert_from_path(head + '/' + tail)\n",
    "    image[0].save(head + '/' + (lambda x: x.split('.')[0])(tail) + '.jpg')\n",
    "    \n",
    "for file in glob.glob('C:/Users/Vineet Kumar Verma/Desktop/Major Part - 1/dataset_of_faces/RupeeGo Project/PAN/*.*'):\n",
    "    os.rename(file, file.split('.')[0] + \".jpg\")"
   ]
  },
  {
   "cell_type": "code",
   "execution_count": 123,
   "metadata": {},
   "outputs": [],
   "source": [
    "for file in glob.glob('C:/Users/Vineet Kumar Verma/Desktop/Major Part - 1/dataset_of_faces/RupeeGo Project/Photo/*.*'):\n",
    "    os.rename(file, file.split('.')[0] + \".jpg\")"
   ]
  }
 ],
 "metadata": {
  "kernelspec": {
   "display_name": "Python 3",
   "language": "python",
   "name": "python3"
  },
  "language_info": {
   "codemirror_mode": {
    "name": "ipython",
    "version": 3
   },
   "file_extension": ".py",
   "mimetype": "text/x-python",
   "name": "python",
   "nbconvert_exporter": "python",
   "pygments_lexer": "ipython3",
   "version": "3.7.5"
  }
 },
 "nbformat": 4,
 "nbformat_minor": 2
}
